{
 "cells": [
  {
   "cell_type": "markdown",
   "metadata": {
    "toc": true
   },
   "source": [
    "<h1>Table of Contents<span class=\"tocSkip\"></span></h1>\n",
    "<div class=\"toc\"><ul class=\"toc-item\"><li><span><a href=\"#Графики.-Уточнить-легенду!\" data-toc-modified-id=\"Графики.-Уточнить-легенду!-1\"><span class=\"toc-item-num\">1&nbsp;&nbsp;</span>Графики. Уточнить легенду!</a></span></li></ul></div>"
   ]
  },
  {
   "cell_type": "code",
   "execution_count": 1,
   "metadata": {},
   "outputs": [],
   "source": [
    "import pandas as pd\n",
    "import numpy as np\n",
    "import bokeh\n",
    "from bokeh.plotting import figure, show, save, output_file\n",
    "from bokeh.models import ColumnDataSource\n",
    "from bokeh.io import export_png\n",
    "from bokeh.models import Legend,LegendItem\n",
    "import math\n",
    "from bokeh.models import Label\n",
    "from tqdm.notebook import tqdm as tqdm\n",
    "import time\n",
    "\n",
    "import sys\n",
    "sys.path.insert(0, '../') \n",
    "from btb_matrix.domain import FullBtBways\n",
    "from btb_matrix.config import engine"
   ]
  },
  {
   "cell_type": "code",
   "execution_count": null,
   "metadata": {},
   "outputs": [],
   "source": [
    "scenario = 199\n",
    "_fullbtb = FullBtBways('2021-11-24', scenario, start_time = '7:30')"
   ]
  },
  {
   "cell_type": "code",
   "execution_count": null,
   "metadata": {},
   "outputs": [],
   "source": [
    "matrix_current = _fullbtb.get_trip_flows()\n",
    "\n",
    "# Добавляев название о.п.\n",
    "stops = pd.read_sql('select stop_id, stop_name from routes.stops()', con=engine)\n",
    "stops = stops.set_index('stop_id')\n",
    "matrix_current = matrix_current.join(stops, on='stop_id_start')\n",
    "matrix_current = matrix_current.join(stops, on='stop_id_end', lsuffix='_start', rsuffix='_end')\n",
    "\n",
    "\n",
    "# Добавляем уровень загрузки\n",
    "matrix_current['rel_inside'] = matrix_current['cnt_inside'] / matrix_current['capacity']\n",
    "\n",
    "matrix_current.head(3)"
   ]
  },
  {
   "cell_type": "code",
   "execution_count": null,
   "metadata": {},
   "outputs": [],
   "source": [
    "# matrix_current['cnt_inside'] = matrix_current['cnt_inside'] / 2\n",
    "# matrix_current['cnt_on'] = matrix_current['cnt_on'] / 2\n",
    "# matrix_current['cnt_off'] = matrix_current['cnt_off'] / 2\n",
    "\n",
    "# Добавляем уровень загрузки\n",
    "# matrix_current['rel_inside'] = matrix_current['cnt_inside'] / matrix_current['capacity']\n",
    "\n",
    "# matrix_current.head(3)"
   ]
  },
  {
   "cell_type": "code",
   "execution_count": null,
   "metadata": {},
   "outputs": [],
   "source": [
    "# matrix_current.to_excel(r'C:\\Users\\ovnanyan_gm\\btb_matrix\\notebooks\\data\\Графики загрузки\\177\\matrix_current.xlsx', index=False) "
   ]
  },
  {
   "cell_type": "code",
   "execution_count": null,
   "metadata": {
    "scrolled": true
   },
   "outputs": [],
   "source": [
    "# файл с остановками МЦД/БКЛ, чтобы отметить на графике\n",
    "stops_metro = pd.read_excel('stops0.xlsx',  engine='openpyxl', encoding = 'cp1251')\n",
    "stops_metro = list(stops_metro['stop_id'])\n",
    "stops_metro[:3]"
   ]
  },
  {
   "cell_type": "code",
   "execution_count": null,
   "metadata": {
    "scrolled": false
   },
   "outputs": [],
   "source": [
    "# приводим в нужный вид\n",
    "\n",
    "matrix_current_inputs = matrix_current[['mvn','route_id','segment_seq','stop_id_start','cnt_on','capacity','num_of_trips', 'cnt_inside']]\n",
    "matrix_current_inputs = matrix_current_inputs.rename(columns={'segment_seq':'stop_sequence',\n",
    "                                'stop_id_start':'stop_id'})\n",
    "\n",
    "\n",
    "matrix_current_outputs = matrix_current[['mvn','route_id','stop_id_end','cnt_off']]\n",
    "matrix_current_outputs = matrix_current_outputs.rename(columns={'stop_id_end':'stop_id'})\n",
    "\n",
    "\n",
    "mtrx = pd.merge(matrix_current_inputs, matrix_current_outputs, how='outer',on=['mvn','route_id','stop_id'])\n",
    "mtrx = mtrx.sort_values(['mvn','route_id','stop_sequence','stop_id']).reset_index(drop=True)\n",
    "mtrx = mtrx.fillna(0)\n",
    "\n",
    "matrix_current = mtrx.copy()\n",
    "matrix_current = pd.merge(matrix_current, stops, how='left', on = ['stop_id'])\n",
    "\n",
    "matrix_current.head(5)  "
   ]
  },
  {
   "cell_type": "code",
   "execution_count": null,
   "metadata": {},
   "outputs": [],
   "source": [
    "# МВН для графика\n",
    "mvns = [\n",
    "'КМ-471-00-А-прямое',\n",
    "'КМ-471-00-А-обратное',\n",
    "'КМ-472-00-А-прямое',\n",
    "'КМ-472-00-А-обратное',\n",
    "'КМ-473-00-А-прямое',\n",
    "'КМ-473-00-А-обратное',\n",
    "'КМ-474-00-А-прямое',\n",
    "'КМ-474-00-А-обратное',\n",
    "'КМ-475-00-А-прямое',\n",
    "'КМ-475-00-А-обратное',\n",
    "'КМ-476-00-А-прямое',\n",
    "'КМ-476-00-А-обратное'\n",
    "]\n",
    "\n",
    "# выгрузка всех графиков\n",
    "# mvns = list(matrix_current['mvn'].unique())"
   ]
  },
  {
   "cell_type": "markdown",
   "metadata": {},
   "source": [
    "##### Графики. Уточнить легенду!"
   ]
  },
  {
   "cell_type": "code",
   "execution_count": null,
   "metadata": {
    "scrolled": true
   },
   "outputs": [],
   "source": [
    "for i in tqdm(mvns):\n",
    "    \n",
    "    print(i)\n",
    "    \n",
    "    try:\n",
    "    \n",
    "        #--------------считаем наполнение сущпол-------------------\n",
    "\n",
    "        # выбирем данные для нужного МВН\n",
    "        t = matrix_current[matrix_current['mvn'] == i].copy()\n",
    "        t = t.reset_index(drop=True)\n",
    "        freq = t.iloc[0]['num_of_trips']\n",
    "\n",
    "        #------------записываем значение вместимости----------------------\n",
    "\n",
    "        capacity = t['capacity'].values[0]\n",
    "\n",
    "        t['Провозная способность'] = capacity\n",
    "        t['idx'] = t.index\n",
    "\n",
    "        #-----------собираем данные для графика---------------------\n",
    "\n",
    "        cds_input = dict(x=list(t['stop_sequence'].values), # данные о входе\n",
    "                top=list(t['cnt_on'].values/freq),\n",
    "               x_offset = [x-0.2 for x in range(len(t))])\n",
    "        source_input = ColumnDataSource(data = cds_input)\n",
    "\n",
    "        cds_output = dict(x=list(t['stop_sequence'].values), # данные о выходе\n",
    "               top=list(t['cnt_off'].values/freq),\n",
    "               x_offset = [x+0.2 for x in range(len(t))])\n",
    "        source_output = ColumnDataSource(data = cds_output) \n",
    "\n",
    "\n",
    "        cds_volume = dict(x=list(t['idx'].values), # данные о наполнении\n",
    "               y=list(t['cnt_inside'].values/freq),\n",
    "               cap=list(t['Провозная способность'].values/freq),\n",
    "                         )\n",
    "        source_volume = ColumnDataSource(data = cds_volume)\n",
    "\n",
    "        # ----------станции БКЛ/МЦД------------------------\n",
    "\n",
    "        metro = list(t[t['stop_id'].isin(stops_metro)].index) # станции метро, которые надо отметить\n",
    "        print(metro)\n",
    "\n",
    "        #------------рисуем график----------------------\n",
    "\n",
    "        p = figure(plot_width=1200, plot_height=800)\n",
    "\n",
    "        r0 = p.vbar(x='x_offset', width=0.4, bottom=0,\n",
    "           top='top', color=\"orange\", source = source_input, )\n",
    "\n",
    "        r1 = p.vbar(x='x_offset', width=0.4, bottom=0,\n",
    "           top='top', color=\"royalblue\", source = source_output, )\n",
    "\n",
    "        r4 = p.line(x='x', y='y', line_width=2, color=\"blue\", source = source_volume, )\n",
    "\n",
    "        p.circle(x='x', y='y', size=8, color=\"blue\", source = source_volume)\n",
    "\n",
    "        r5 = p.line(x='x', y='cap', line_width=2, color=\"red\", source = source_volume, )\n",
    "\n",
    "\n",
    "        if metro:\n",
    "            for m in metro:\n",
    "                r7 = p.line(x=[m]*2, y = [0,0.75*capacity/freq], color = 'black',line_dash='dotted', line_width=2,)\n",
    "\n",
    "\n",
    "        else:\n",
    "            r7 = p.line(x=0, y=0, color='black',line_dash='dotted',line_width=2,)\n",
    "\n",
    "        #-------------легенда------------------------\n",
    "\n",
    "        legend = Legend(items=[\n",
    "            (\"Посадка\"   , [r0]),\n",
    "            (\"Высадка\" , [r1]),\n",
    "            (\"Наполнение\" , [r4]),\n",
    "            (\"Провозная способность\" , [r5]),\n",
    "        #   (\"Новая станция метро\" , [r7])\n",
    "        ], location=\"center\")\n",
    "\n",
    "        p.add_layout(legend, 'right')\n",
    "\n",
    "        #-------------оси---------------------------\n",
    "\n",
    "        ax_list = list(t.index)\n",
    "        p.xaxis.ticker = ax_list \n",
    "\n",
    "#         p.xaxis.major_label_overrides = (t.set_index('idx')['stop_id']).astype('str').to_dict() #подписи названием\n",
    "        p.xaxis.major_label_overrides = t.set_index('idx')['stop_name'].to_dict() #подписи названием\n",
    "        p.xaxis.major_label_orientation = -math.pi/6 #если подписи нужно повернуть\n",
    "\n",
    "        #-------------- форматирование подписей осей----------------  \n",
    "\n",
    "        p.xaxis.major_label_text_font_size = '10pt'\n",
    "        p.xaxis.major_label_text_align = 'center'\n",
    "        p.xaxis.major_label_text_font_style = 'bold'\n",
    "\n",
    "\n",
    "        p.yaxis.major_label_text_font_size = '10pt'\n",
    "        p.yaxis.major_label_text_font_style = 'bold'\n",
    "\n",
    "        #---------------устанавливаем границы графика (нужно расширить, если подписи не помещаются)\n",
    "\n",
    "        p.min_border_right = 150\n",
    "        p.min_border_left = 150\n",
    "\n",
    "        p.title.text = str(i)\n",
    "        p.title.align = \"center\"\n",
    "        p.title.text_font_size = \"25px\"\n",
    "\n",
    "        p.toolbar_location = None\n",
    "\n",
    "        #-----------сохраняем---------------\n",
    "        #   output_file(r\"C:\\Users\\ovnanyan_gm\\stages_occupancy\\data\\Графики загрузки\\58\\{0}.html\".format(i))\n",
    "        #   save(p)\n",
    "        export_png(p, filename=r\"C:\\Users\\ovnanyan_gm\\btb_matrix\\notebooks\\data\\Графики загрузки\\%s\\{0}.png\".format(i) %(scenario))\n",
    "        print('saved')\n",
    "        \n",
    "    except:\n",
    "        print('error')"
   ]
  },
  {
   "cell_type": "code",
   "execution_count": null,
   "metadata": {},
   "outputs": [],
   "source": []
  }
 ],
 "metadata": {
  "kernelspec": {
   "display_name": "Python 3 (ipykernel)",
   "language": "python",
   "name": "python3"
  },
  "language_info": {
   "codemirror_mode": {
    "name": "ipython",
    "version": 3
   },
   "file_extension": ".py",
   "mimetype": "text/x-python",
   "name": "python",
   "nbconvert_exporter": "python",
   "pygments_lexer": "ipython3",
   "version": "3.8.5"
  },
  "toc": {
   "base_numbering": 1,
   "nav_menu": {},
   "number_sections": true,
   "sideBar": true,
   "skip_h1_title": true,
   "title_cell": "Table of Contents",
   "title_sidebar": "Contents",
   "toc_cell": true,
   "toc_position": {},
   "toc_section_display": true,
   "toc_window_display": true
  }
 },
 "nbformat": 4,
 "nbformat_minor": 2
}
