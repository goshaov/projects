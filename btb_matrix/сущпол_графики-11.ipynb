{
 "cells": [
  {
   "cell_type": "markdown",
   "metadata": {},
   "source": [
    "# Построение графиков загрузки по данным из сущпола"
   ]
  },
  {
   "cell_type": "markdown",
   "metadata": {
    "toc": true
   },
   "source": [
    "<h1>Содержание<span class=\"tocSkip\"></span></h1>\n",
    "<div class=\"toc\"><ul class=\"toc-item\"><li><span><a href=\"#Описание-блокнота\" data-toc-modified-id=\"Описание-блокнота-1\"><span class=\"toc-item-num\">1&nbsp;&nbsp;</span>Описание блокнота</a></span></li><li><span><a href=\"#Импортируемые-библиотеки\" data-toc-modified-id=\"Импортируемые-библиотеки-2\"><span class=\"toc-item-num\">2&nbsp;&nbsp;</span>Импортируемые библиотеки</a></span></li><li><span><a href=\"#Подключение-к-БД\" data-toc-modified-id=\"Подключение-к-БД-3\"><span class=\"toc-item-num\">3&nbsp;&nbsp;</span>Подключение к БД</a></span></li><li><span><a href=\"#Выгрузка-остановок\" data-toc-modified-id=\"Выгрузка-остановок-4\"><span class=\"toc-item-num\">4&nbsp;&nbsp;</span>Выгрузка остановок</a></span></li><li><span><a href=\"#Выгрузка-параметров-маршрутов\" data-toc-modified-id=\"Выгрузка-параметров-маршрутов-5\"><span class=\"toc-item-num\">5&nbsp;&nbsp;</span>Выгрузка параметров маршрутов</a></span></li><li><span><a href=\"#Функция-для-построения-графика\" data-toc-modified-id=\"Функция-для-построения-графика-6\"><span class=\"toc-item-num\">6&nbsp;&nbsp;</span>Функция для построения графика</a></span></li><li><span><a href=\"#Построение-графика\" data-toc-modified-id=\"Построение-графика-7\"><span class=\"toc-item-num\">7&nbsp;&nbsp;</span>Построение графика</a></span></li></ul></div>"
   ]
  },
  {
   "cell_type": "markdown",
   "metadata": {},
   "source": [
    "## Описание блокнота"
   ]
  },
  {
   "cell_type": "markdown",
   "metadata": {},
   "source": [
    "Блокнот выгружает сущпол графики загрузки по trip_id маршрута на основе DataFram'а `volume_by_route`.<br> \n",
    "Подготовлена функция со следующими параметрами:\n",
    "- date: дата в формате \"ГГММДД\" - int,\n",
    "- hour_1: час суток - int,\n",
    "- hour_2: час суток - int,\n",
    "- hour_3: час суток - int,\n",
    "- trip_id: номер trip_id - int,\n",
    "- num_vehicle: {'one', 'all'} - str:\n",
    "    - one - загрузка рассчитывается для одного ТС по указанному trip_id,\n",
    "    - all - загрузка рассчитывается дял всех ТС по указанному trip_id.\n",
    "    \n",
    "Блокнот создает папку volume_plot и сохраняет в нее графики."
   ]
  },
  {
   "cell_type": "markdown",
   "metadata": {},
   "source": [
    "## Импортируемые библиотеки"
   ]
  },
  {
   "cell_type": "code",
   "execution_count": 1,
   "metadata": {},
   "outputs": [],
   "source": [
    "# импортируемые все необходимые модули / библиотеки \n",
    "import pandas as pd\n",
    "import geopandas as gpd\n",
    "import sqlalchemy\n",
    "from sqlalchemy import create_engine\n",
    "\n",
    "from datetime import datetime\n",
    "from datasets.processed.askp_passflows import get\n",
    "\n",
    "import matplotlib.pyplot as plt\n",
    "import math\n",
    "from bokeh.plotting import figure, show\n",
    "from bokeh.models import Legend,LegendItem\n",
    "from bokeh.io import export_png\n",
    "\n",
    "import os\n",
    "\n",
    "import warnings\n",
    "warnings.filterwarnings(\"ignore\")"
   ]
  },
  {
   "cell_type": "markdown",
   "metadata": {},
   "source": [
    "## Подключение к БД"
   ]
  },
  {
   "cell_type": "code",
   "execution_count": 2,
   "metadata": {},
   "outputs": [],
   "source": [
    "db_config = {\n",
    "'user' : '', # Логин\n",
    "'pwd' : '', # Пароль\n",
    "'host' : 'airms.mgtniip.ru', # Хост\n",
    "'port' : 5432, # Порт подключения\n",
    "'db' : 'UARMS' # Название базы данных\n",
    "}\n",
    "\n",
    "connection_string = 'postgresql://{}:{}@{}:{}/{}'.format(db_config['user'],\n",
    "                                                        db_config['pwd'],\n",
    "                                                        db_config['host'],\n",
    "                                                        db_config['port'],\n",
    "                                                        db_config['db'])\n",
    "\n",
    "engine = create_engine(connection_string)"
   ]
  },
  {
   "cell_type": "markdown",
   "metadata": {},
   "source": [
    "## Выгрузка остановок"
   ]
  },
  {
   "cell_type": "code",
   "execution_count": 3,
   "metadata": {},
   "outputs": [
    {
     "data": {
      "text/html": [
       "<div>\n",
       "<style scoped>\n",
       "    .dataframe tbody tr th:only-of-type {\n",
       "        vertical-align: middle;\n",
       "    }\n",
       "\n",
       "    .dataframe tbody tr th {\n",
       "        vertical-align: top;\n",
       "    }\n",
       "\n",
       "    .dataframe thead th {\n",
       "        text-align: right;\n",
       "    }\n",
       "</style>\n",
       "<table border=\"1\" class=\"dataframe\">\n",
       "  <thead>\n",
       "    <tr style=\"text-align: right;\">\n",
       "      <th></th>\n",
       "      <th>stop_id</th>\n",
       "      <th>stop_name</th>\n",
       "    </tr>\n",
       "  </thead>\n",
       "  <tbody>\n",
       "    <tr>\n",
       "      <th>0</th>\n",
       "      <td>7</td>\n",
       "      <td>Дербеневская наб.</td>\n",
       "    </tr>\n",
       "    <tr>\n",
       "      <th>1</th>\n",
       "      <td>11</td>\n",
       "      <td>Набережная Тараса Шевченко</td>\n",
       "    </tr>\n",
       "    <tr>\n",
       "      <th>2</th>\n",
       "      <td>12</td>\n",
       "      <td>Наб. Тараса Шевченко</td>\n",
       "    </tr>\n",
       "  </tbody>\n",
       "</table>\n",
       "</div>"
      ],
      "text/plain": [
       "   stop_id                   stop_name\n",
       "0        7           Дербеневская наб.\n",
       "1       11  Набережная Тараса Шевченко\n",
       "2       12        Наб. Тараса Шевченко"
      ]
     },
     "execution_count": 3,
     "metadata": {},
     "output_type": "execute_result"
    }
   ],
   "source": [
    "query_stops = \"\"\"\n",
    "select stop_id, stop_name\n",
    "from routes.stops()\n",
    "order by stop_id\n",
    "\"\"\"\n",
    "stops_all = pd.read_sql(query_stops, con=engine)\n",
    "stops_all.head(3)"
   ]
  },
  {
   "cell_type": "markdown",
   "metadata": {},
   "source": [
    "## Выгрузка параметров маршрутов"
   ]
  },
  {
   "cell_type": "code",
   "execution_count": 4,
   "metadata": {},
   "outputs": [
    {
     "data": {
      "text/html": [
       "<div>\n",
       "<style scoped>\n",
       "    .dataframe tbody tr th:only-of-type {\n",
       "        vertical-align: middle;\n",
       "    }\n",
       "\n",
       "    .dataframe tbody tr th {\n",
       "        vertical-align: top;\n",
       "    }\n",
       "\n",
       "    .dataframe thead th {\n",
       "        text-align: right;\n",
       "    }\n",
       "</style>\n",
       "<table border=\"1\" class=\"dataframe\">\n",
       "  <thead>\n",
       "    <tr style=\"text-align: right;\">\n",
       "      <th></th>\n",
       "      <th>trip_id</th>\n",
       "      <th>mvn</th>\n",
       "      <th>route_id</th>\n",
       "      <th>route_name</th>\n",
       "      <th>route_long_name</th>\n",
       "      <th>transport_type</th>\n",
       "      <th>branch_ids</th>\n",
       "      <th>is_circle</th>\n",
       "      <th>date_gk_start</th>\n",
       "      <th>date_gk_end</th>\n",
       "      <th>...</th>\n",
       "      <th>direction</th>\n",
       "      <th>length_doc</th>\n",
       "      <th>length_graph</th>\n",
       "      <th>length_mgt</th>\n",
       "      <th>agency_name</th>\n",
       "      <th>agency_id</th>\n",
       "      <th>registry_type</th>\n",
       "      <th>registry_number</th>\n",
       "      <th>gk_number</th>\n",
       "      <th>commercial</th>\n",
       "    </tr>\n",
       "  </thead>\n",
       "  <tbody>\n",
       "    <tr>\n",
       "      <th>0</th>\n",
       "      <td>661</td>\n",
       "      <td>49-00-А-прямое</td>\n",
       "      <td>582</td>\n",
       "      <td>49</td>\n",
       "      <td>Метро \"Беляево\" - Санаторий \"Узкое\"</td>\n",
       "      <td>А</td>\n",
       "      <td>120</td>\n",
       "      <td>False</td>\n",
       "      <td>2012-01-01</td>\n",
       "      <td>None</td>\n",
       "      <td>...</td>\n",
       "      <td>0</td>\n",
       "      <td>NaN</td>\n",
       "      <td>8.219</td>\n",
       "      <td>8.23701</td>\n",
       "      <td>ГУП «Мосгортранс»</td>\n",
       "      <td>0</td>\n",
       "      <td>муниципальный</td>\n",
       "      <td>58.0</td>\n",
       "      <td>None</td>\n",
       "      <td>False</td>\n",
       "    </tr>\n",
       "    <tr>\n",
       "      <th>1</th>\n",
       "      <td>662</td>\n",
       "      <td>49-00-А-обратное</td>\n",
       "      <td>582</td>\n",
       "      <td>49</td>\n",
       "      <td>Метро \"Беляево\" - Санаторий \"Узкое\"</td>\n",
       "      <td>А</td>\n",
       "      <td>120</td>\n",
       "      <td>False</td>\n",
       "      <td>2012-01-01</td>\n",
       "      <td>None</td>\n",
       "      <td>...</td>\n",
       "      <td>1</td>\n",
       "      <td>NaN</td>\n",
       "      <td>3.847</td>\n",
       "      <td>3.81281</td>\n",
       "      <td>ГУП «Мосгортранс»</td>\n",
       "      <td>0</td>\n",
       "      <td>муниципальный</td>\n",
       "      <td>58.0</td>\n",
       "      <td>None</td>\n",
       "      <td>False</td>\n",
       "    </tr>\n",
       "    <tr>\n",
       "      <th>2</th>\n",
       "      <td>909</td>\n",
       "      <td>665-00-А-прямое</td>\n",
       "      <td>692</td>\n",
       "      <td>665</td>\n",
       "      <td>Лобненская ул. - Платф. Грачёвская</td>\n",
       "      <td>А</td>\n",
       "      <td>111,119</td>\n",
       "      <td>False</td>\n",
       "      <td>2012-01-01</td>\n",
       "      <td>None</td>\n",
       "      <td>...</td>\n",
       "      <td>0</td>\n",
       "      <td>NaN</td>\n",
       "      <td>3.628</td>\n",
       "      <td>3.61714</td>\n",
       "      <td>ГУП «Мосгортранс»</td>\n",
       "      <td>0</td>\n",
       "      <td>муниципальный</td>\n",
       "      <td>534.0</td>\n",
       "      <td>None</td>\n",
       "      <td>False</td>\n",
       "    </tr>\n",
       "  </tbody>\n",
       "</table>\n",
       "<p>3 rows × 22 columns</p>\n",
       "</div>"
      ],
      "text/plain": [
       "   trip_id               mvn  route_id route_name  \\\n",
       "0      661    49-00-А-прямое       582         49   \n",
       "1      662  49-00-А-обратное       582         49   \n",
       "2      909   665-00-А-прямое       692        665   \n",
       "\n",
       "                       route_long_name transport_type branch_ids  is_circle  \\\n",
       "0  Метро \"Беляево\" - Санаторий \"Узкое\"              А        120      False   \n",
       "1  Метро \"Беляево\" - Санаторий \"Узкое\"              А        120      False   \n",
       "2   Лобненская ул. - Платф. Грачёвская              А    111,119      False   \n",
       "\n",
       "  date_gk_start date_gk_end  ...  direction length_doc  length_graph  \\\n",
       "0    2012-01-01        None  ...          0        NaN         8.219   \n",
       "1    2012-01-01        None  ...          1        NaN         3.847   \n",
       "2    2012-01-01        None  ...          0        NaN         3.628   \n",
       "\n",
       "   length_mgt        agency_name  agency_id  registry_type  registry_number  \\\n",
       "0     8.23701  ГУП «Мосгортранс»          0  муниципальный             58.0   \n",
       "1     3.81281  ГУП «Мосгортранс»          0  муниципальный             58.0   \n",
       "2     3.61714  ГУП «Мосгортранс»          0  муниципальный            534.0   \n",
       "\n",
       "  gk_number  commercial  \n",
       "0      None       False  \n",
       "1      None       False  \n",
       "2      None       False  \n",
       "\n",
       "[3 rows x 22 columns]"
      ]
     },
     "execution_count": 4,
     "metadata": {},
     "output_type": "execute_result"
    }
   ],
   "source": [
    "query_mvns = \"\"\"\n",
    "select * from routes.mvns (current_date, 1)\n",
    "\"\"\"\n",
    "mvns =  pd.read_sql(query_mvns, con=engine)\n",
    "mvns.head(3)"
   ]
  },
  {
   "cell_type": "markdown",
   "metadata": {},
   "source": [
    "## Функция для построения графика"
   ]
  },
  {
   "cell_type": "code",
   "execution_count": 85,
   "metadata": {},
   "outputs": [],
   "source": [
    "def get_volume(date, hour_1, hour_2, hour_3, trip_id, num_vehicle):\n",
    "    date = str(date)\n",
    "    year = int(date[:4])\n",
    "    month = int(date[4:6])\n",
    "    day = int(date[6:])\n",
    "    volume_by_route = get(datetime(year,month,day),'volume_by_route')\n",
    "    volume_by_route['hour'] = volume_by_route['timestamp'].dt.hour\n",
    "    \n",
    "    # Выбор данных для конкретного маршрутного варианта и часа суток\n",
    "    volume_selected1 = volume_by_route[(volume_by_route['trip_id']==trip_id)&(volume_by_route['hour']==hour_1)].sort_values(\n",
    "        by=['stop_sequence'])\n",
    "    volume_selected2 = volume_by_route[(volume_by_route['trip_id']==trip_id)&(volume_by_route['hour']==hour_2)].sort_values(\n",
    "        by=['stop_sequence'])\n",
    "    volume_selected3 = volume_by_route[(volume_by_route['trip_id']==trip_id)&(volume_by_route['hour']==hour_3)].sort_values(\n",
    "        by=['stop_sequence'])\n",
    "    \n",
    "    # Присоединяем колонку stop_name из таблицы с остановками\n",
    "    final = volume_selected1.merge(stops_all[['stop_id','stop_name']], on = 'stop_id', how=\"left\")\n",
    "    final = final.merge(mvns[['route_id','route_name']], on = 'route_id', how = 'left')\n",
    "    final2 = volume_selected2.merge(stops_all[['stop_id','stop_name']], on = 'stop_id', how=\"left\")\n",
    "    final2 = final2.merge(mvns[['route_id','route_name']], on = 'route_id', how = 'left')\n",
    "    final3 = volume_selected3.merge(stops_all[['stop_id','stop_name']], on = 'stop_id', how=\"left\")\n",
    "    final3 = final3.merge(mvns[['route_id','route_name']], on = 'route_id', how = 'left')\n",
    "    \n",
    "    if num_vehicle == 'all':\n",
    "        print('График для всех ТС:')\n",
    "    \n",
    "    elif num_vehicle == 'one':\n",
    "        print('График для одного ТС:')\n",
    "        final['cnt_inside'] = final['cnt_inside']/final['num_of_trips']\n",
    "        final2['cnt_inside'] = final2['cnt_inside']/final2['num_of_trips']\n",
    "        final3['cnt_inside'] = final3['cnt_inside']/final3['num_of_trips']\n",
    "        final['capacity'] = final['capacity']/final['num_of_trips']\n",
    "        final['cnt_on'] = final['cnt_on']/final['num_of_trips']\n",
    "        final['cnt_off'] = final['cnt_off']/final['num_of_trips']\n",
    "    else:\n",
    "        return print('уточните для какого числа тс строится график')\n",
    "        \n",
    "    # Построение графика \n",
    "    final['idx'] = final.index\n",
    "    sequence = list(final['stop_sequence'])\n",
    "    cnt_inside = list(final['cnt_inside'])\n",
    "    cnt_inside2 = list(final2['cnt_inside'])\n",
    "    cnt_inside3 = list(final3['cnt_inside'])\n",
    "\n",
    "    cnt_on = list(final['cnt_on'])\n",
    "    cnt_off = list(final['cnt_off'])\n",
    "    capacity = final['capacity']\n",
    "    capacity1 = capacity[0]\n",
    "\n",
    "    p = figure(plot_height=800, plot_width = 1300)\n",
    "    r0 = p.line(x=sequence, y=cnt_inside, line_width=2, color='gray')\n",
    "    r02 = p.line(x=sequence, y=cnt_inside2, line_width=2, color='blue')\n",
    "    r03 = p.line(x=sequence, y=cnt_inside3, line_width=2, color='red')\n",
    "\n",
    "    r1 = p.vbar(x=sequence, top=cnt_on, width=0.9, color = 'orange')\n",
    "    r2 = p.vbar(x=sequence, top=cnt_off, width=0.9, color = 'blue', alpha = 0.4)\n",
    "    r3 = p.line(x=sequence, y=capacity1, line_width=2, color='red')\n",
    "\n",
    "    legend = Legend(items=[\n",
    "        (\"Посадка_8\"   , [r1]),\n",
    "        (\"Высадка_8\" , [r2]),\n",
    "        (\"Наполнение_8\" , [r0]),\n",
    "        (\"Наполнение_12\" , [r02]),\n",
    "        (\"Наполнение_18\" , [r03]),\n",
    "        (\"Провозная способность\" , [r3])],location=\"center\")\n",
    "    p.add_layout(legend, 'right')\n",
    "\n",
    "    ax_list = list(final['stop_name'].index)\n",
    "    p.xaxis.ticker = ax_list\n",
    "    p.xaxis.major_label_overrides = final.set_index('idx')['stop_name'].to_dict()\n",
    "    p.xaxis.major_label_orientation = math.pi/3\n",
    "    p.xaxis.major_label_text_font_size = '11pt'\n",
    "    p.xaxis.major_label_text_align = 'center'\n",
    "    p.xaxis.major_label_text_font_style = 'bold'\n",
    "\n",
    "    i = final['route_name']\n",
    "    i = i[0]\n",
    "    \n",
    "    path = os.getcwd()  \n",
    "    \n",
    "    try:\n",
    "        os.mkdir('volume_plot')\n",
    "        return export_png(p, filename=r\"{}/volume_plot/{}.png\".format(path, i))\n",
    "    except:\n",
    "        return export_png(p, filename=r\"{}/volume_plot/{}.png\".format(path, i))"
   ]
  },
  {
   "cell_type": "markdown",
   "metadata": {},
   "source": [
    "## Построение графика"
   ]
  },
  {
   "cell_type": "code",
   "execution_count": 86,
   "metadata": {},
   "outputs": [],
   "source": [
    "date = 20211012\n",
    "hour_1 = 8\n",
    "hour_2 = 12\n",
    "hour_3 = 18\n",
    "trip_id = 46821\n",
    "num_vehicle = 'one'"
   ]
  },
  {
   "cell_type": "code",
   "execution_count": 87,
   "metadata": {},
   "outputs": [
    {
     "name": "stdout",
     "output_type": "stream",
     "text": [
      "График для одного ТС:\n"
     ]
    },
    {
     "data": {
      "text/plain": [
       "'C:\\\\Users\\\\ovnanyan_gm\\\\btb_matrix\\\\notebooks\\\\volume_plot\\\\126.png'"
      ]
     },
     "execution_count": 87,
     "metadata": {},
     "output_type": "execute_result"
    }
   ],
   "source": [
    "get_volume(date, hour_1, hour_2, hour_3, trip_id, num_vehicle)"
   ]
  },
  {
   "cell_type": "code",
   "execution_count": null,
   "metadata": {},
   "outputs": [],
   "source": []
  }
 ],
 "metadata": {
  "kernelspec": {
   "display_name": "Python 3 (ipykernel)",
   "language": "python",
   "name": "python3"
  },
  "language_info": {
   "codemirror_mode": {
    "name": "ipython",
    "version": 3
   },
   "file_extension": ".py",
   "mimetype": "text/x-python",
   "name": "python",
   "nbconvert_exporter": "python",
   "pygments_lexer": "ipython3",
   "version": "3.8.5"
  },
  "toc": {
   "base_numbering": 1,
   "nav_menu": {},
   "number_sections": true,
   "sideBar": true,
   "skip_h1_title": true,
   "title_cell": "Содержание",
   "title_sidebar": "Contents",
   "toc_cell": true,
   "toc_position": {},
   "toc_section_display": true,
   "toc_window_display": true
  }
 },
 "nbformat": 4,
 "nbformat_minor": 2
}
