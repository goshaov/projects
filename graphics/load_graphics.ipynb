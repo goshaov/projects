{
 "cells": [
  {
   "cell_type": "markdown",
   "metadata": {},
   "source": [
    "# Построение графиков загрузки по данным из сущпола"
   ]
  },
  {
   "cell_type": "markdown",
   "metadata": {
    "toc": true
   },
   "source": [
    "<h1>Содержание<span class=\"tocSkip\"></span></h1>\n",
    "<div class=\"toc\"><ul class=\"toc-item\"><li><span><a href=\"#Описание-блокнота\" data-toc-modified-id=\"Описание-блокнота-1\"><span class=\"toc-item-num\">1&nbsp;&nbsp;</span>Описание блокнота</a></span></li><li><span><a href=\"#Импортируемые-библиотеки\" data-toc-modified-id=\"Импортируемые-библиотеки-2\"><span class=\"toc-item-num\">2&nbsp;&nbsp;</span>Импортируемые библиотеки</a></span></li><li><span><a href=\"#Подключение-к-БД\" data-toc-modified-id=\"Подключение-к-БД-3\"><span class=\"toc-item-num\">3&nbsp;&nbsp;</span>Подключение к БД</a></span></li><li><span><a href=\"#Выгрузка-остановок\" data-toc-modified-id=\"Выгрузка-остановок-4\"><span class=\"toc-item-num\">4&nbsp;&nbsp;</span>Выгрузка остановок</a></span></li><li><span><a href=\"#Выгрузка-параметров-маршрутов\" data-toc-modified-id=\"Выгрузка-параметров-маршрутов-5\"><span class=\"toc-item-num\">5&nbsp;&nbsp;</span>Выгрузка параметров маршрутов</a></span></li><li><span><a href=\"#Функция-для-построения-графика\" data-toc-modified-id=\"Функция-для-построения-графика-6\"><span class=\"toc-item-num\">6&nbsp;&nbsp;</span>Функция для построения графика</a></span></li><li><span><a href=\"#Построение-графика\" data-toc-modified-id=\"Построение-графика-7\"><span class=\"toc-item-num\">7&nbsp;&nbsp;</span>Построение графика</a></span></li></ul></div>"
   ]
  },
  {
   "cell_type": "markdown",
   "metadata": {},
   "source": [
    "## Описание блокнота"
   ]
  },
  {
   "cell_type": "markdown",
   "metadata": {},
   "source": [
    "Блокнот выгружает сущпол графики загрузки по trip_id маршрута на основе DataFram'а `volume_by_route`.<br> \n",
    "Подготовлена функция со следующими параметрами:\n",
    "- date: дата в формате \"ГГММДД\" - int,\n",
    "- hour_1: час суток - int,\n",
    "- hour_2: час суток - int,\n",
    "- hour_3: час суток - int,\n",
    "- trip_id: номер trip_id - int,\n",
    "- num_vehicle: {'one', 'all'} - str:\n",
    "    - one - загрузка рассчитывается для одного ТС по указанному trip_id,\n",
    "    - all - загрузка рассчитывается дял всех ТС по указанному trip_id.\n",
    "    \n",
    "Блокнот создает папку volume_plot и сохраняет в нее графики."
   ]
  },
  {
   "cell_type": "markdown",
   "metadata": {},
   "source": [
    "## Импортируемые библиотеки"
   ]
  },
  {
   "cell_type": "code",
   "execution_count": 1,
   "metadata": {},
   "outputs": [],
   "source": [
    "# импортируемые все необходимые модули / библиотеки \n",
    "import pandas as pd\n",
    "import geopandas as gpd\n",
    "import sqlalchemy\n",
    "from sqlalchemy import create_engine\n",
    "from tqdm import tqdm\n",
    "\n",
    "from datetime import datetime\n",
    "from datasets.processed.askp_passflows import get\n",
    "\n",
    "import matplotlib.pyplot as plt\n",
    "import math\n",
    "from bokeh.plotting import figure, show\n",
    "from bokeh.models import Legend,LegendItem\n",
    "from bokeh.io import export_png\n",
    "from tqdm.notebook import tqdm as tqdm\n",
    "\n",
    "import os\n",
    "\n",
    "import warnings\n",
    "warnings.filterwarnings(\"ignore\")"
   ]
  },
  {
   "cell_type": "markdown",
   "metadata": {},
   "source": [
    "## Подключение к БД"
   ]
  },
  {
   "cell_type": "code",
   "execution_count": 2,
   "metadata": {},
   "outputs": [],
   "source": [
    "db_config = {\n",
    "'user' : '', # Логин\n",
    "'pwd' : '', # Пароль\n",
    "'host' : 'airms.mgtniip.ru', # Хост\n",
    "'port' : 5432, # Порт подключения\n",
    "'db' : 'UARMS' # Название базы данных\n",
    "}\n",
    "\n",
    "connection_string = 'postgresql://{}:{}@{}:{}/{}'.format(db_config['user'],\n",
    "                                                        db_config['pwd'],\n",
    "                                                        db_config['host'],\n",
    "                                                        db_config['port'],\n",
    "                                                        db_config['db'])\n",
    "\n",
    "engine = create_engine(connection_string)"
   ]
  },
  {
   "cell_type": "markdown",
   "metadata": {},
   "source": [
    "## Выгрузка остановок"
   ]
  },
  {
   "cell_type": "code",
   "execution_count": 3,
   "metadata": {},
   "outputs": [
    {
     "data": {
      "text/html": [
       "<div>\n",
       "<style scoped>\n",
       "    .dataframe tbody tr th:only-of-type {\n",
       "        vertical-align: middle;\n",
       "    }\n",
       "\n",
       "    .dataframe tbody tr th {\n",
       "        vertical-align: top;\n",
       "    }\n",
       "\n",
       "    .dataframe thead th {\n",
       "        text-align: right;\n",
       "    }\n",
       "</style>\n",
       "<table border=\"1\" class=\"dataframe\">\n",
       "  <thead>\n",
       "    <tr style=\"text-align: right;\">\n",
       "      <th></th>\n",
       "      <th>stop_id</th>\n",
       "      <th>stop_name</th>\n",
       "    </tr>\n",
       "  </thead>\n",
       "  <tbody>\n",
       "    <tr>\n",
       "      <th>0</th>\n",
       "      <td>7</td>\n",
       "      <td>Дербеневская наб.</td>\n",
       "    </tr>\n",
       "    <tr>\n",
       "      <th>1</th>\n",
       "      <td>11</td>\n",
       "      <td>Набережная Тараса Шевченко</td>\n",
       "    </tr>\n",
       "    <tr>\n",
       "      <th>2</th>\n",
       "      <td>12</td>\n",
       "      <td>Наб. Тараса Шевченко</td>\n",
       "    </tr>\n",
       "  </tbody>\n",
       "</table>\n",
       "</div>"
      ],
      "text/plain": [
       "   stop_id                   stop_name\n",
       "0        7           Дербеневская наб.\n",
       "1       11  Набережная Тараса Шевченко\n",
       "2       12        Наб. Тараса Шевченко"
      ]
     },
     "execution_count": 3,
     "metadata": {},
     "output_type": "execute_result"
    }
   ],
   "source": [
    "query_stops = \"\"\"\n",
    "select stop_id, stop_name\n",
    "from routes.stops()\n",
    "order by stop_id\n",
    "\"\"\"\n",
    "stops_all = pd.read_sql(query_stops, con=engine)\n",
    "stops_all.head(3)"
   ]
  },
  {
   "cell_type": "markdown",
   "metadata": {},
   "source": [
    "## Выгрузка параметров маршрутов"
   ]
  },
  {
   "cell_type": "code",
   "execution_count": 4,
   "metadata": {},
   "outputs": [
    {
     "data": {
      "text/html": [
       "<div>\n",
       "<style scoped>\n",
       "    .dataframe tbody tr th:only-of-type {\n",
       "        vertical-align: middle;\n",
       "    }\n",
       "\n",
       "    .dataframe tbody tr th {\n",
       "        vertical-align: top;\n",
       "    }\n",
       "\n",
       "    .dataframe thead th {\n",
       "        text-align: right;\n",
       "    }\n",
       "</style>\n",
       "<table border=\"1\" class=\"dataframe\">\n",
       "  <thead>\n",
       "    <tr style=\"text-align: right;\">\n",
       "      <th></th>\n",
       "      <th>trip_id</th>\n",
       "      <th>mvn</th>\n",
       "      <th>route_id</th>\n",
       "      <th>route_name</th>\n",
       "      <th>route_long_name</th>\n",
       "      <th>transport_type</th>\n",
       "      <th>branch_ids</th>\n",
       "      <th>is_circle</th>\n",
       "      <th>date_gk_start</th>\n",
       "      <th>date_gk_end</th>\n",
       "      <th>...</th>\n",
       "      <th>direction</th>\n",
       "      <th>length_doc</th>\n",
       "      <th>length_graph</th>\n",
       "      <th>length_mgt</th>\n",
       "      <th>agency_name</th>\n",
       "      <th>agency_id</th>\n",
       "      <th>registry_type</th>\n",
       "      <th>registry_number</th>\n",
       "      <th>gk_number</th>\n",
       "      <th>commercial</th>\n",
       "    </tr>\n",
       "  </thead>\n",
       "  <tbody>\n",
       "    <tr>\n",
       "      <th>0</th>\n",
       "      <td>433</td>\n",
       "      <td>251к-00-А-прямое</td>\n",
       "      <td>1075</td>\n",
       "      <td>251к</td>\n",
       "      <td>Метро \"Молодежная\" - Рубежный пр.</td>\n",
       "      <td>А</td>\n",
       "      <td>115</td>\n",
       "      <td>False</td>\n",
       "      <td>2014-07-10</td>\n",
       "      <td>None</td>\n",
       "      <td>...</td>\n",
       "      <td>0</td>\n",
       "      <td>NaN</td>\n",
       "      <td>3.778</td>\n",
       "      <td>3.78387</td>\n",
       "      <td>ГУП «Мосгортранс»</td>\n",
       "      <td>0</td>\n",
       "      <td>муниципальный</td>\n",
       "      <td>287.0</td>\n",
       "      <td>None</td>\n",
       "      <td>False</td>\n",
       "    </tr>\n",
       "    <tr>\n",
       "      <th>1</th>\n",
       "      <td>434</td>\n",
       "      <td>251к-00-А-обратное</td>\n",
       "      <td>1075</td>\n",
       "      <td>251к</td>\n",
       "      <td>Метро \"Молодежная\" - Рубежный пр.</td>\n",
       "      <td>А</td>\n",
       "      <td>115</td>\n",
       "      <td>False</td>\n",
       "      <td>2014-07-10</td>\n",
       "      <td>None</td>\n",
       "      <td>...</td>\n",
       "      <td>1</td>\n",
       "      <td>NaN</td>\n",
       "      <td>3.347</td>\n",
       "      <td>3.42601</td>\n",
       "      <td>ГУП «Мосгортранс»</td>\n",
       "      <td>0</td>\n",
       "      <td>муниципальный</td>\n",
       "      <td>287.0</td>\n",
       "      <td>None</td>\n",
       "      <td>False</td>\n",
       "    </tr>\n",
       "    <tr>\n",
       "      <th>2</th>\n",
       "      <td>661</td>\n",
       "      <td>49-00-А-прямое</td>\n",
       "      <td>582</td>\n",
       "      <td>49</td>\n",
       "      <td>Метро \"Беляево\" - Санаторий \"Узкое\"</td>\n",
       "      <td>А</td>\n",
       "      <td>120</td>\n",
       "      <td>False</td>\n",
       "      <td>2012-01-01</td>\n",
       "      <td>None</td>\n",
       "      <td>...</td>\n",
       "      <td>0</td>\n",
       "      <td>NaN</td>\n",
       "      <td>8.219</td>\n",
       "      <td>8.23701</td>\n",
       "      <td>ГУП «Мосгортранс»</td>\n",
       "      <td>0</td>\n",
       "      <td>муниципальный</td>\n",
       "      <td>58.0</td>\n",
       "      <td>None</td>\n",
       "      <td>False</td>\n",
       "    </tr>\n",
       "  </tbody>\n",
       "</table>\n",
       "<p>3 rows × 22 columns</p>\n",
       "</div>"
      ],
      "text/plain": [
       "   trip_id                 mvn  route_id route_name  \\\n",
       "0      433    251к-00-А-прямое      1075       251к   \n",
       "1      434  251к-00-А-обратное      1075       251к   \n",
       "2      661      49-00-А-прямое       582         49   \n",
       "\n",
       "                       route_long_name transport_type branch_ids  is_circle  \\\n",
       "0    Метро \"Молодежная\" - Рубежный пр.              А        115      False   \n",
       "1    Метро \"Молодежная\" - Рубежный пр.              А        115      False   \n",
       "2  Метро \"Беляево\" - Санаторий \"Узкое\"              А        120      False   \n",
       "\n",
       "  date_gk_start date_gk_end  ...  direction length_doc  length_graph  \\\n",
       "0    2014-07-10        None  ...          0        NaN         3.778   \n",
       "1    2014-07-10        None  ...          1        NaN         3.347   \n",
       "2    2012-01-01        None  ...          0        NaN         8.219   \n",
       "\n",
       "   length_mgt        agency_name  agency_id  registry_type  registry_number  \\\n",
       "0     3.78387  ГУП «Мосгортранс»          0  муниципальный            287.0   \n",
       "1     3.42601  ГУП «Мосгортранс»          0  муниципальный            287.0   \n",
       "2     8.23701  ГУП «Мосгортранс»          0  муниципальный             58.0   \n",
       "\n",
       "  gk_number  commercial  \n",
       "0      None       False  \n",
       "1      None       False  \n",
       "2      None       False  \n",
       "\n",
       "[3 rows x 22 columns]"
      ]
     },
     "execution_count": 4,
     "metadata": {},
     "output_type": "execute_result"
    }
   ],
   "source": [
    "query_mvns = \"\"\"\n",
    "select * from routes.mvns ('2022-05-16', 1)\n",
    "\"\"\"\n",
    "mvns =  pd.read_sql(query_mvns, con=engine)\n",
    "mvns.head(3)\n",
    "# mvns[mvns['trip_id']==2000021]"
   ]
  },
  {
   "cell_type": "markdown",
   "metadata": {},
   "source": [
    "## Функция для построения графика"
   ]
  },
  {
   "cell_type": "code",
   "execution_count": 5,
   "metadata": {},
   "outputs": [],
   "source": [
    "def get_volume(date, hour_1, hour_2, hour_3, trip_id, num_vehicle):\n",
    "    date = str(date)\n",
    "    year = int(date[:4])\n",
    "    month = int(date[4:6])\n",
    "    day = int(date[6:])\n",
    "    volume_by_route = get(datetime(year,month,day),'volume_by_route')\n",
    "    volume_by_route['hour'] = volume_by_route['timestamp'].dt.hour\n",
    "\n",
    "    # Выбор данных для конкретного маршрутного варианта и часа суток\n",
    "    volume_selected1 = volume_by_route[(volume_by_route['trip_id']==trip_id)&(volume_by_route['hour']==hour_1)].sort_values(\n",
    "        by=['stop_sequence'])\n",
    "    volume_selected2 = volume_by_route[(volume_by_route['trip_id']==trip_id)&(volume_by_route['hour']==hour_2)].sort_values(\n",
    "        by=['stop_sequence'])\n",
    "    volume_selected3 = volume_by_route[(volume_by_route['trip_id']==trip_id)&(volume_by_route['hour']==hour_3)].sort_values(\n",
    "        by=['stop_sequence'])\n",
    "\n",
    "    # Присоединяем колонку stop_name из таблицы с остановками\n",
    "    final = volume_selected1.merge(stops_all[['stop_id','stop_name']], on = 'stop_id', how=\"left\")\n",
    "    final = final.merge(mvns[['route_id', 'trip_id', 'mvn', 'route_name']], on = ['route_id','trip_id'], how = 'left')   \n",
    "\n",
    "    if num_vehicle == 'one':\n",
    "        final['capacity'] = final['capacity']/final['num_of_trips']\n",
    "        final['cnt_on'] = final['cnt_on']/final['num_of_trips']\n",
    "        final['cnt_off'] = final['cnt_off']/final['num_of_trips']\n",
    "        final['cnt_inside'] = final['cnt_inside']/final['num_of_trips']\n",
    "        volume_selected2['cnt_inside'] = volume_selected2['cnt_inside']/volume_selected2['num_of_trips']\n",
    "        volume_selected3['cnt_inside'] = volume_selected3['cnt_inside']/volume_selected3['num_of_trips']\n",
    "    elif num_vehicle == 'all':\n",
    "        next\n",
    "    else:\n",
    "        print('уточните для какого числа тс строится график')\n",
    "\n",
    "    # Построение графика \n",
    "    final['idx'] = final.index\n",
    "    sequence = list(final['stop_sequence'])\n",
    "    cnt_inside = list(final['cnt_inside'])\n",
    "    cnt_inside2 = list(volume_selected2['cnt_inside'])\n",
    "    cnt_inside3 = list(volume_selected3['cnt_inside'])\n",
    "\n",
    "    cnt_on = list(final['cnt_on'])\n",
    "    cnt_off = list(final['cnt_off'])\n",
    "    capacity = final['capacity']\n",
    "    capacity1 = capacity[0]\n",
    "\n",
    "\n",
    "    p = figure(plot_height=800, plot_width = 1300)\n",
    "\n",
    "    r1 = p.vbar(x = [x-0.2 for x in range(len(final))], width=0.4, bottom=0, top=cnt_on, color = 'orange')\n",
    "    r2 = p.vbar(x = [x+0.2 for x in range(len(final))], width=0.4, bottom=0, top=cnt_off, color = 'royalblue')\n",
    "\n",
    "    r0 = p.line(x=list(final['idx']), y=cnt_inside, line_width=2, color='gray')\n",
    "    r02 = p.line(x=list(final['idx']), y=cnt_inside2, line_width=2, color='blue')\n",
    "    r03 = p.line(x=list(final['idx']), y=cnt_inside3, line_width=2, color='red')\n",
    "    r3 = p.line(x=list(final['idx']), y=capacity1, line_width=2, color='red')\n",
    "\n",
    "    legend = Legend(items=[\n",
    "        (\"Посадка_8\"   , [r1]),\n",
    "        (\"Высадка_8\" , [r2]),\n",
    "        (\"Наполнение_8\" , [r0]),\n",
    "        (\"Наполнение_12\" , [r02]),\n",
    "        (\"Наполнение_18\" , [r03]),\n",
    "        (\"Провозная способность\" , [r3])],location=\"center\")\n",
    "    p.add_layout(legend, 'right')\n",
    "\n",
    "    ax_list = list(final.index)\n",
    "    p.xaxis.ticker = ax_list\n",
    "    p.xaxis.major_label_overrides = final.set_index('idx')['stop_name'].to_dict()\n",
    "    p.xaxis.major_label_orientation = -math.pi/5\n",
    "\n",
    "    p.xaxis.major_label_text_font_size = '8pt'\n",
    "    p.xaxis.major_label_text_align = 'center'\n",
    "    p.xaxis.major_label_text_font_style = 'bold'\n",
    "\n",
    "    i = final['mvn']\n",
    "    i = i[0]  \n",
    "    \n",
    "    plt.show(p)\n",
    "    \n",
    "    return export_png(p, filename=\"{}\\{}.png\".format(path_save, i))"
   ]
  },
  {
   "cell_type": "markdown",
   "metadata": {},
   "source": [
    "## Построение графика"
   ]
  },
  {
   "cell_type": "code",
   "execution_count": 6,
   "metadata": {},
   "outputs": [],
   "source": [
    "path_save = r'C:\\Users\\ovnanyan_gm\\btb_matrix\\notebooks\\data\\Графики загрузки\\сущпол'\n",
    "date = 20220516\n",
    "hour_1 = 8\n",
    "hour_2 = 12\n",
    "hour_3 = 18\n",
    "# trip_id_list = mvns['trip_id'].unique()\n",
    "trip_id_list = [43379]\n",
    "num_vehicle = 'one'"
   ]
  },
  {
   "cell_type": "code",
   "execution_count": 7,
   "metadata": {},
   "outputs": [
    {
     "name": "stdout",
     "output_type": "stream",
     "text": [
      "Save: 43379\n",
      "********************\n"
     ]
    }
   ],
   "source": [
    "for trip_id in trip_id_list:\n",
    "    try:\n",
    "        get_volume(date, hour_1, hour_2, hour_3, trip_id, num_vehicle)\n",
    "        print('Save:', trip_id)\n",
    "        print('*'*20)\n",
    "    except:\n",
    "        print('error:', trip_id)\n",
    "        print('*'*20)"
   ]
  },
  {
   "cell_type": "code",
   "execution_count": 8,
   "metadata": {},
   "outputs": [
    {
     "data": {
      "image/png": "[encoded data removed]",
      "text/plain": [
       "<PIL.PngImagePlugin.PngImageFile image mode=RGBA size=1300x800>"
      ]
     },
     "execution_count": 8,
     "metadata": {},
     "output_type": "execute_result"
    }
   ],
   "source": [
    "from PIL import Image\n",
    "Image.open(r'C:\\Users\\ovnanyan_gm\\btb_matrix\\notebooks\\data\\Графики загрузки\\сущпол\\96-00-А-прямое.png')"
   ]
  },
  {
   "cell_type": "code",
   "execution_count": null,
   "metadata": {},
   "outputs": [],
   "source": []
  }
 ],
 "metadata": {
  "kernelspec": {
   "display_name": "Python 3 (ipykernel)",
   "language": "python",
   "name": "python3"
  },
  "language_info": {
   "codemirror_mode": {
    "name": "ipython",
    "version": 3
   },
   "file_extension": ".py",
   "mimetype": "text/x-python",
   "name": "python",
   "nbconvert_exporter": "python",
   "pygments_lexer": "ipython3",
   "version": "3.8.5"
  },
  "toc": {
   "base_numbering": 1,
   "nav_menu": {},
   "number_sections": true,
   "sideBar": true,
   "skip_h1_title": true,
   "title_cell": "Содержание",
   "title_sidebar": "Contents",
   "toc_cell": true,
   "toc_position": {},
   "toc_section_display": true,
   "toc_window_display": true
  },
  "vscode": {
   "interpreter": {
    "hash": "4926fe987eba1a698caae2e65b9243465d85c4fc21b204f7288ac0adc0d76ad2"
   }
  }
 },
 "nbformat": 4,
 "nbformat_minor": 2
}
